{
 "cells": [
  {
   "cell_type": "markdown",
   "metadata": {},
   "source": [
    "# Структуры\n",
    "В C# и C++, есть структуры и классы. Согласно той теории что я обладаю существуют ссылочные и значимые типы данных.\n",
    "- Значимые типы данных это ассемблерные примитивы или структуры. В ассемблере при разметке оперативной памяти кто во что горазд, но обще признанным стандартом является указатель на начало и символ окончания в конце или же указатель на начало и смешение на конец. Структуры и локальные переменные обладают расположением в стеке вызова функций, пишут что при вызове функции в C# и C++ происходит глубокое копирование структур в область данных новой вызванной функции, размешенной в стеке вызова функций. Стек вызова функций и стек микропроцессора - судя по литературе это одно и тоже.\n",
    "- Ссылочные типы данных в C# и C++ это классы. В C++ ссылочным типом данных при особых условиях могут быть и структуры... В C# классы как ссылочный тип данных распологаются в куче. Структуры помещённые в класс тоже в куче. В С++ объявленные классы или структуры можно распологать в оперативной памяти операционной системы, обращение через указатель...\n",
    "\n",
    "Это если в кратце.<br/>\n",
    "Про Julia официальную информацию. Существуют изменяемые и неизменяемые структуры. Там такой бурелом что дай бог самому изучить...<br/>\n",
    "Предупреждение. Да вы можете насоздавать абстрактных типов, но все их наследники будут структурами..."
   ]
  },
  {
   "cell_type": "code",
   "execution_count": 2,
   "metadata": {},
   "outputs": [
    {
     "name": "stdout",
     "output_type": "stream",
     "text": [
      "1\n",
      "2\n",
      ".bar=1\n",
      ".baz=2\n"
     ]
    }
   ],
   "source": [
    "#Создание структуры\n",
    "struct Foo\n",
    "    bar\n",
    "    baz\n",
    "end\n",
    "_Foo = Foo(1, 2)\n",
    "#Выводим обычным способом\n",
    "_Foo.bar|>println\n",
    "_Foo.baz|>println\n",
    "#Добавляем перегрузку экзумпляра структуры ещё и методом, темепрь можно вызывать как метод\n",
    "function (x::Foo)()println(\".bar=$(x.bar)\");println(\".baz=$(x.baz)\");end;\n",
    "_Foo()"
   ]
  },
  {
   "cell_type": "code",
   "execution_count": 1,
   "metadata": {},
   "outputs": [
    {
     "ename": "LoadError",
     "evalue": "UndefVarError: Null not defined",
     "output_type": "error",
     "traceback": [
      "UndefVarError: Null not defined",
      "",
      "Stacktrace:",
      " [1] (::Fooo)(::UndefInitializer, ::UndefInitializer) at .\\In[1]:7 (repeats 2 times)",
      " [2] top-level scope at In[1]:10",
      " [3] include_string(::Function, ::Module, ::String, ::String) at .\\loading.jl:1091"
     ]
    }
   ],
   "source": [
    "#Создание изменяемой структуры\n",
    "mutable struct Fooo; bar; baz; end;\n",
    "_Fooo = Fooo(1, 2)\n",
    "#Добавляем перегрузку экзумпляра структуры ещё и методом, темепрь можно вызывать как метод\n",
    "function (x::Fooo)()println(\".bar=$(x.bar)\");println(\".baz=$(x.baz)\");end;\n",
    "function (x::Fooo)(_bar=undef,_baz=undef)\n",
    "    if(_bar!=Null);x.bar=_bar; end;\n",
    "    if(_baz!=Null);x.baz=_baz; end;\n",
    "end;\n",
    "_Fooo()\n",
    "_Fooo.bar=7;_Fooo.baz=7;\n",
    "_Fooo()"
   ]
  },
  {
   "cell_type": "code",
   "execution_count": 1,
   "metadata": {},
   "outputs": [
    {
     "data": {
      "text/plain": [
       "Fo(2, 1)"
      ]
     },
     "execution_count": 1,
     "metadata": {},
     "output_type": "execute_result"
    }
   ],
   "source": [
    "#Перегрузка экземпляра структуры функцией, теперь экземпляр структуры является ещё и функцией\n",
    "mutable struct Fo;\n",
    "    bar;baz;\n",
    "    Fo(x,y)=new(y,x);\n",
    "end\n",
    "function (x::Fo)()println(\".bar=$(x.bar)\");println(\".baz=$(x.baz)\");x;end;\n",
    "\n",
    "_Fo = Fo(1, 2)\n",
    "#_Foo()\n",
    "#_Foo.bar=6\n",
    "\n",
    "#_Foo.bar|>println\n",
    "#_Foo.baz|>println\n",
    "#_Foo|>p"
   ]
  },
  {
   "cell_type": "code",
   "execution_count": 50,
   "metadata": {},
   "outputs": [
    {
     "data": {
      "text/plain": [
       "OrderedPair(1, 2)"
      ]
     },
     "execution_count": 50,
     "metadata": {},
     "output_type": "execute_result"
    }
   ],
   "source": [
    "#Создание структуры, пример конструктор, пример генератор ошибок\n",
    "struct OrderedPair; x::Real; y::Real; OrderedPair(x,y) = x > y ? error(\"out of order\") : new(x,y); end;\n",
    "OrderedPair(1, 2)#OrderedPair(2,1)"
   ]
  },
  {
   "cell_type": "code",
   "execution_count": 8,
   "metadata": {},
   "outputs": [
    {
     "name": "stdout",
     "output_type": "stream",
     "text": [
      "Point{Int64}(1, 2)\n",
      "Point{Float64}(1.0, 2.5)\n",
      "Point{Float64}(1.0, 2.0)\n"
     ]
    }
   ],
   "source": [
    "#Пример генетического типа\n",
    "struct Point{T<:Real};x::T;y::T;end;\n",
    "Point(1,2)|>println\n",
    "Point(1.0,2.5)|>println\n",
    "Point{Float64}(1,2)|>println"
   ]
  },
  {
   "cell_type": "code",
   "execution_count": 31,
   "metadata": {},
   "outputs": [
    {
     "data": {
      "text/plain": [
       "bio (generic function with 2 methods)"
      ]
     },
     "execution_count": 31,
     "metadata": {},
     "output_type": "execute_result"
    }
   ],
   "source": [
    "#Пример с наследованием\n",
    "abstract type Pet end\n",
    "\n",
    "struct Cat <: Pet\n",
    "    name::String\n",
    "    color::String\n",
    "end\n",
    "\n",
    "name(c::Cat) = c.name\n",
    "color(c::Cat) = c.color\n",
    "species(::Cat) = \"cat\"\n",
    "\n",
    "struct Dog <: Pet\n",
    "    name::String\n",
    "    color::String\n",
    "end\n",
    "\n",
    "name(d::Dog) = d.name\n",
    "color(d::Dog) = d.color\n",
    "species(::Dog) = \"dog\"\n",
    "\n",
    "bio(p::Pet) = println(\"I have a \", color(p), \" \", species(p), \" named \", name(p), \".\")\n",
    "\n",
    "struct Plant\n",
    "    type::String\n",
    "end\n",
    "\n",
    "type(p::Plant) = p.type\n",
    "bio(p::Plant) = println(\"I have a \", type(p), \" house plant.\")"
   ]
  },
  {
   "cell_type": "markdown",
   "metadata": {},
   "source": [
    " создав экземпляр структуры, поменять значения полей уже нельзя"
   ]
  },
  {
   "cell_type": "code",
   "execution_count": 74,
   "metadata": {},
   "outputs": [
    {
     "ename": "LoadError",
     "evalue": "syntax: extra token \"qwer\" after end of expression",
     "output_type": "error",
     "traceback": [
      "syntax: extra token \"qwer\" after end of expression",
      "",
      "Stacktrace:",
      " [1] top-level scope at In[74]:2",
      " [2] include_string(::Function, ::Module, ::String, ::String) at .\\loading.jl:1091"
     ]
    }
   ],
   "source": [
    "#abstract type Pointy{T} end"
   ]
  },
  {
   "cell_type": "code",
   "execution_count": null,
   "metadata": {},
   "outputs": [],
   "source": []
  }
 ],
 "metadata": {
  "kernelspec": {
   "display_name": "Julia 1.5.3",
   "language": "julia",
   "name": "julia-1.5"
  },
  "language_info": {
   "file_extension": ".jl",
   "mimetype": "application/julia",
   "name": "julia",
   "version": "1.5.3"
  }
 },
 "nbformat": 4,
 "nbformat_minor": 4
}
