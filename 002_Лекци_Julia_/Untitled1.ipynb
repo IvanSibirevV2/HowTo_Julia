{
 "cells": [
  {
   "cell_type": "code",
   "execution_count": 1,
   "metadata": {},
   "outputs": [
    {
     "name": "stdout",
     "output_type": "stream",
     "text": [
      "stdin> 1\n",
      "\n"
     ]
    }
   ],
   "source": [
    "_str=\"\"\n",
    "if(length(_str)==0);_str=readline();end;\n",
    "_str=_str[2:length(_str)]\n",
    "_str|>println;\n",
    "    \n"
   ]
  },
  {
   "cell_type": "code",
   "execution_count": 33,
   "metadata": {},
   "outputs": [
    {
     "data": {
      "text/plain": [
       "1-element Array{Any,1}:\n",
       " (a = 0, b = 2)"
      ]
     },
     "execution_count": 33,
     "metadata": {},
     "output_type": "execute_result"
    }
   ],
   "source": [
    "#Core.Tuple\n",
    "a=Core.Any[]\n",
    "push!(a,(a=Core.Number(0),b=Core.Number(2)))\n",
    "#(a=Core.Number(0),b=Core.Number(2))|>typeof|>println"
   ]
  },
  {
   "cell_type": "code",
   "execution_count": 4,
   "metadata": {},
   "outputs": [
    {
     "name": "stdout",
     "output_type": "stream",
     "text": [
      "\u0001\u0002\u0003\u0004\u0005\u0006\t\n",
      "\u000e\u000f\u0010\u0011\u0012\u0013\u0014\u0015\u0016\u0017\u0018\u0019\u001a\u001b\u001c",
      "\u001d",
      "\u001e",
      "\u001f !\"#$%&'()*+,-./0123456789:;<=>?@ABCDEFGHIJKLMNOPQRSTUVWXYZ[\\]^_`abcdefghijklmnopqrstuvwxyz{|}~",
      " ¡¢£¤¥¦§¨©ª«¬­®¯°±²³´µ¶·¸¹º»¼½¾¿ÀÁÂÃÄÅÆÇÈÉÊËÌÍÎÏÐÑÒÓÔÕÖ×ØÙÚÛÜÝÞ"
     ]
    }
   ],
   "source": [
    "function BrainFack(\n",
    "    _Code::Base.String=\n",
    "\"\"\"\n",
    "+.+.+.+.+.+.+.+.+.+.+.+.+.+.+.+.+.+.+.+.+.+.+.+.+.+.+.+.+.+.+.+.+.+.+.+.+.\n",
    "+.+.+.+.+.+.+.+.+.+.+.+.+.+.+.+.+.+.+.+.+.+.+.+.+.+.+.+.+.+.+.+.+.+.+.+.+.\n",
    "+.+.+.+.+.+.+.+.+.+.+.+.+.+.+.+.+.+.+.+.+.+.+.+.+.+.+.+.+.+.+.+.+.+.+.+.+.\n",
    "+.+.+.+.+.+.+.+.+.+.+.+.+.+.+.+.+.+.+.+.+.+.+.+.+.+.+.+.+.+.+.+.+.+.+.+.+.\n",
    "+.+.+.+.+.+.+.+.+.+.+.+.+.+.+.+.+.+.+.+.+.+.+.+.+.+.+.+.+.+.+.+.+.+.+.+.+.\n",
    "+.+.+.+.+.+.+.+.+.+.+.+.+.+.+.+.+.+.+.+.+.+.+.+.+.+.+.+.+.+.+.+.+.+.+.+.+.\n",
    "\"\"\"\n",
    "    ,_IsNeedListing::Core.Bool=false\n",
    ")\n",
    "    _StrIn=\"\";\n",
    "    _StrOut=\"\";\n",
    "    ###Def Code###\n",
    "    #_Code::Base.String;\n",
    "    _CodeId=1;\n",
    "    _CodeIdMax=_Code|>length;\n",
    "    \n",
    "    ###Def Mem###\n",
    "    _MemId=1;\n",
    "    _Mem=Core.Int64[];\n",
    "    push!(_Mem,0);\n",
    "    ###LoopStack###\n",
    "    _LoopStack=Core.Any[]\n",
    "    ###Listing###\n",
    "    function BrainFackListing()\n",
    "        \"###BrainFackListing###TargetOperatorWasExecuted###\"|>println;\n",
    "        \"###Code###\"|>println;\n",
    "        for i=1:_CodeIdMax;if(i==_CodeId);print(\"{\"*_Code[i]*\"}\");else;print(_Code[i]);end;end;\"\"|>println;\n",
    "        \"###Memory###\"|>println;\n",
    "        _MemIdMax=_Mem|>length;\n",
    "        for i=1:_MemIdMax;\n",
    "            _p=\"\";if(i==_MemId);_p=\"\"else;_p=\"   \"end;\n",
    "            println(\"$(_p)_Mem[$(i)]==$(_Mem[i])==<$(convert(Core.Char, _Mem[i]))>\");\n",
    "        end;\n",
    "        if(length(_StrOut)!=0);println(\"###Out###\\n\"*_StrOut);end;\n",
    "        if(length(_StrIn)!=0);println(\"###In###\\n\"*_StrIn);end;\n",
    "        println(\"###LoopStack###\");\n",
    "        for i in _LoopStack; \n",
    "            println(i);\n",
    "        end;\n",
    "            \n",
    "        \n",
    "    end;\n",
    "    ###Work Part###\n",
    "    while _CodeId <= _CodeIdMax;\n",
    "        _char =convert(Core.Char, _Code[_CodeId]);\n",
    "        if(\n",
    "            (_char=='+')||(_char=='-')\n",
    "            ||(_char=='>')||(_char=='<')\n",
    "            ||(_char=='.')||(_char==',')\n",
    "            ||(_char=='[')||(_char==']')\n",
    "        );\n",
    "            if(_char=='+');_Mem[_MemId]=_Mem[_MemId]+1;end;\n",
    "            if(_char=='-');_Mem[_MemId]=_Mem[_MemId]-1;end;\n",
    "            if(_char=='>');_MemId=_MemId+1;while(_MemId>length(_Mem));push!(_Mem,0);end;end;\n",
    "            if(_char=='<');_MemId=_MemId-1;if(_MemId<1);_MemId=length(_Mem) end;end;\n",
    "            if(_char=='.');\n",
    "                _charPrint=convert(Core.Char, _Mem[_MemId])\n",
    "                print(_charPrint);\n",
    "                _StrOut=_StrOut*_charPrint;\n",
    "            end;\n",
    "            if(_char==',');\n",
    "                while(length(_StrIn)==0);_StrIn=readline();end;\n",
    "                _Mem[_MemId]=convert(Core.Int64, _StrIn[1])\n",
    "                _StrIn=_StrIn[2:length(_StrIn)]\n",
    "            end;\n",
    "            if(_char=='[');\n",
    "                #(_CodeId=_CodeId+1,_MemId=_MemId)|>println;\n",
    "                push!(_LoopStack,(_CodeId=_CodeId,_MemId=_MemId))\n",
    "            end;\n",
    "            if(_char==']');\n",
    "                var=pop!(_LoopStack)\n",
    "                if(_Mem[var._MemId]!=0);\n",
    "                    push!(_LoopStack,var);\n",
    "                    _CodeId=var._CodeId;\n",
    "                end;\n",
    "            end;\n",
    "            ###Listing###\n",
    "            if(!false);if(_IsNeedListing);BrainFackListing();end;end;\n",
    "        end;\n",
    "        _CodeId=_CodeId+1;\n",
    "    end;\n",
    "end;\n",
    "BrainFack();"
   ]
  },
  {
   "cell_type": "markdown",
   "metadata": {},
   "source": [
    "$\\textbf{жирный текст}$"
   ]
  },
  {
   "cell_type": "code",
   "execution_count": 2,
   "metadata": {},
   "outputs": [
    {
     "ename": "LoadError",
     "evalue": "UndefVarError: AbstractPolynomial not defined",
     "output_type": "error",
     "traceback": [
      "UndefVarError: AbstractPolynomial not defined",
      "",
      "Stacktrace:",
      " [1] top-level scope at In[2]:16",
      " [2] include_string(::Function, ::Module, ::String, ::String) at .\\loading.jl:1091"
     ]
    }
   ],
   "source": [
    "mutable struct BoolArr\n",
    "    var::Array{Bool,1}\n",
    "    BoolArr()=new(Bool[])\n",
    "end\n",
    "a=Bool[]\n",
    "push!(a,0,1,0)\n",
    "###Преобразование массива в строку###\n",
    "function Get_As_String(x::Array{Bool,1})\n",
    "    str=\"\";\n",
    "    for i in x; \n",
    "        if(i);str=str*\"1\";else;str=str*\"0\";end\n",
    "    ;end;\n",
    "    return x;\n",
    "end;\n",
    "### - ###\n",
    "function Base.:+(x::Array{Bool,1}, p::AbstractPolynomial)\n",
    "    return p + x\n",
    "end\n",
    "#function Add(x::Array{Bool,1})\n",
    "#    return Add;\n",
    "#end;\n",
    "\n",
    "Get_As_String(a)\n",
    "#a|>display#a|>Get_As_String|>display"
   ]
  },
  {
   "cell_type": "code",
   "execution_count": 110,
   "metadata": {},
   "outputs": [
    {
     "data": {
      "text/plain": [
       "MyCompositeType(0.7, 5)"
      ]
     },
     "metadata": {},
     "output_type": "display_data"
    }
   ],
   "source": [
    "mutable struct MyCompositeType\n",
    "x::Float64\n",
    "y::Int\n",
    "end\n",
    "\n",
    "a=MyCompositeType(0.7,5)\n",
    "a|>display"
   ]
  },
  {
   "cell_type": "code",
   "execution_count": 15,
   "metadata": {},
   "outputs": [],
   "source": [
    "mutable struct BrainFack\n",
    "    str::Base.String;\n",
    "end\n",
    "###МультиСетер###\n",
    "function (x::BrainFack)(_str::Base.String = undef);\n",
    "    if(_str != undef);x.str=_str; end;\n",
    "    return x;\n",
    "end;\n",
    "###Запуск интерпритатора###\n",
    "function (x::BrainFack)();\n",
    "    return x;\n",
    "end;\n",
    "\n"
   ]
  },
  {
   "cell_type": "code",
   "execution_count": 11,
   "metadata": {},
   "outputs": [
    {
     "data": {
      "text/plain": [
       "\"++-++-\""
      ]
     },
     "metadata": {},
     "output_type": "display_data"
    }
   ],
   "source": [
    "a = \"++-\"*\"++-\";\n",
    "a|>display;"
   ]
  },
  {
   "cell_type": "code",
   "execution_count": 24,
   "metadata": {},
   "outputs": [
    {
     "data": {
      "text/plain": [
       "10-element Array{UInt8,1}:\n",
       " 0x02\n",
       " 0x00\n",
       " 0x00\n",
       " 0x00\n",
       " 0x00\n",
       " 0x00\n",
       " 0x00\n",
       " 0x00\n",
       " 0x02\n",
       " 0x00"
      ]
     },
     "execution_count": 24,
     "metadata": {},
     "output_type": "execute_result"
    }
   ],
   "source": [
    "Array{Core.UInt8}(undef, 10)"
   ]
  },
  {
   "cell_type": "code",
   "execution_count": 85,
   "metadata": {},
   "outputs": [
    {
     "data": {
      "text/plain": [
       "Bool[]"
      ]
     },
     "execution_count": 85,
     "metadata": {},
     "output_type": "execute_result"
    }
   ],
   "source": [
    "Array{Core.Bool}(undef, 0)"
   ]
  },
  {
   "cell_type": "code",
   "execution_count": 90,
   "metadata": {},
   "outputs": [
    {
     "data": {
      "text/plain": [
       "Bool[]"
      ]
     },
     "execution_count": 90,
     "metadata": {},
     "output_type": "execute_result"
    }
   ],
   "source": [
    "Bool[]"
   ]
  },
  {
   "cell_type": "code",
   "execution_count": null,
   "metadata": {},
   "outputs": [],
   "source": []
  }
 ],
 "metadata": {
  "kernelspec": {
   "display_name": "Julia 1.5.3",
   "language": "julia",
   "name": "julia-1.5"
  },
  "language_info": {
   "file_extension": ".jl",
   "mimetype": "application/julia",
   "name": "julia",
   "version": "1.5.3"
  }
 },
 "nbformat": 4,
 "nbformat_minor": 4
}
