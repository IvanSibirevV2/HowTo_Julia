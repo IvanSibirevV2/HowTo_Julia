{
 "cells": [
  {
   "cell_type": "markdown",
   "metadata": {},
   "source": [
    "# Системное Windows"
   ]
  },
  {
   "cell_type": "markdown",
   "metadata": {},
   "source": [
    "# Буфер обмена, копи-паста, ctrl+c,ctrl+v"
   ]
  },
  {
   "cell_type": "code",
   "execution_count": null,
   "metadata": {},
   "outputs": [],
   "source": [
    "clipboard(\"что угодно\")"
   ]
  },
  {
   "cell_type": "code",
   "execution_count": null,
   "metadata": {},
   "outputs": [],
   "source": [
    "clipboard()"
   ]
  },
  {
   "cell_type": "markdown",
   "metadata": {},
   "source": [
    "# Многозадачность или многопоточность?\n",
    "# Фабрика задач"
   ]
  },
  {
   "cell_type": "code",
   "execution_count": null,
   "metadata": {},
   "outputs": [],
   "source": [
    "function func_A();for i=1:10;print(\"A$i \");end;end;\n",
    "function func_B();for i=1:10;print(\"B$i \");end;end;\n",
    "A=func_A|>Task;#Создание задачи\n",
    "B=func_B|>Task;\n",
    "A|>schedule;#Запуск задачи\n",
    "B|>schedule;"
   ]
  },
  {
   "cell_type": "code",
   "execution_count": null,
   "metadata": {},
   "outputs": [],
   "source": [
    "function func_A();for i=1:10;print(\"A$i \");end;end;\n",
    "function func_B();for i=1:10;print(\"B$i \");end;end;\n",
    "A=func_A|>Task;#Создание задачи\n",
    "B=func_B|>Task;\n",
    "A|>schedule;#Запуск задачи\n",
    "A|>wait;#Ожидание окончания задачи\n",
    "B|>schedule;"
   ]
  },
  {
   "cell_type": "code",
   "execution_count": null,
   "metadata": {},
   "outputs": [],
   "source": [
    "function func_A();for i=1:10;print(\"A$i \");end;end;\n",
    "function func_B();for i=1:10;print(\"B$i \");end;end;\n",
    "func_A|>Task|>schedule;\n",
    "func_B|>Task|>schedule;"
   ]
  },
  {
   "cell_type": "code",
   "execution_count": null,
   "metadata": {},
   "outputs": [],
   "source": [
    "function func_A();for i=1:10;println(\"A$i \");end;end;\n",
    "function func_B();for i=1:10;println(\"B$i \");end;end;\n",
    "func_A|>Task|>schedule;\n",
    "func_B|>Task|>schedule;"
   ]
  },
  {
   "cell_type": "markdown",
   "metadata": {},
   "source": [
    "Все как в С++. Операция **print** накапливается. Операция **println** - исполняется консолью, притом медленно и отложенно."
   ]
  },
  {
   "cell_type": "markdown",
   "metadata": {},
   "source": [
    "Base.yield — переключитесь на планировщик, чтобы разрешить выполнение другой запланированной задачи. Задача, вызывающая эту функцию, все еще выполняется и будет немедленно перезапущена, если нет других выполняемых задач."
   ]
  },
  {
   "cell_type": "code",
   "execution_count": null,
   "metadata": {},
   "outputs": [],
   "source": [
    "a1() = sum(i for i in 1:1000);\n",
    "b = @task a1();\n",
    "b|>istaskstarted|>println\n",
    "b|>schedule|>println\n",
    "yield()|>println\n",
    "b|>istaskdone|>println"
   ]
  },
  {
   "cell_type": "code",
   "execution_count": null,
   "metadata": {},
   "outputs": [],
   "source": [
    "function func_A();return \"func_A\";end;\n",
    "b = Task(func_A)\n",
    "Task(func_A)|>println\n",
    "b|>schedule|>println\n",
    "b|>wait|>println\n",
    "b|>istaskdone|>println"
   ]
  },
  {
   "cell_type": "markdown",
   "metadata": {},
   "source": [
    "#### Как получить результат исполнения задачи"
   ]
  },
  {
   "cell_type": "code",
   "execution_count": null,
   "metadata": {},
   "outputs": [],
   "source": [
    "function func_A();for i=1:10;print(\"A$i \");end;return \"func_A\";end;\n",
    "function func_B();for i=1:10;print(\"B$i \");end;return \"func_B\";end;\n",
    "_Task_A= Task(func_A);#Создание задачи\n",
    "_Task_B= Task(func_B);\n",
    "_Task_A|>schedule;#Запуск задачи\n",
    "_Task_B|>schedule;\n",
    "_Task_A|>fetch|>println;#Получение результата исполненния функции\n",
    "_Task_B|>fetch|>println;"
   ]
  },
  {
   "cell_type": "code",
   "execution_count": null,
   "metadata": {},
   "outputs": [],
   "source": [
    "function func_A();for i=1:10;print(\"A$i \");end;return \"func_A\";end;\n",
    "_Task_A= Task(func_A);\n",
    "_Task_A|>schedule;#Запуск задачи\n",
    "_Task_A|>fetch|>println;"
   ]
  },
  {
   "cell_type": "code",
   "execution_count": null,
   "metadata": {},
   "outputs": [],
   "source": [
    "Threads.@threads :static for i in 0:10; sleep(0.2); print(\"A$i \"); end;"
   ]
  },
  {
   "cell_type": "markdown",
   "metadata": {},
   "source": [
    "# Файловая Система"
   ]
  },
  {
   "cell_type": "code",
   "execution_count": null,
   "metadata": {},
   "outputs": [],
   "source": [
    "\"Получим рабочий каталог\"|>println;\n",
    "Base.Filesystem.pwd()|>println;"
   ]
  },
  {
   "cell_type": "code",
   "execution_count": null,
   "metadata": {},
   "outputs": [],
   "source": [
    "\"Изменим рабочий каталог\"|>println;\n",
    "\"C:\\\\Users\\\\SibNout2020\"|>Base.Filesystem.cd;\n",
    "Base.Filesystem.pwd()|>println;"
   ]
  },
  {
   "cell_type": "code",
   "execution_count": null,
   "metadata": {},
   "outputs": [],
   "source": [
    "\"Изменим рабочий каталог\"|>println;\n",
    "\"C:\\\\Users\\\\SibNout2020\\\\002_Лекци_Julia_\"|>Base.Filesystem.cd;\n",
    "Base.Filesystem.pwd()|>println;"
   ]
  },
  {
   "cell_type": "code",
   "execution_count": null,
   "metadata": {},
   "outputs": [],
   "source": [
    "\"Временно изменим рабочий каталог\"|>println;\n",
    "Base.Filesystem.cd(\n",
    "    ()->(Base.Filesystem.pwd()|>println;)\n",
    "    ,\"C:\\\\Users\\\\SibNout2020\"\n",
    "    )\n",
    ";\n",
    "Base.Filesystem.pwd()|>println;"
   ]
  },
  {
   "cell_type": "code",
   "execution_count": null,
   "metadata": {},
   "outputs": [],
   "source": [
    "# Получаем локальные файлы и папки\n",
    "Base.Filesystem.readdir()"
   ]
  },
  {
   "cell_type": "code",
   "execution_count": null,
   "metadata": {},
   "outputs": [],
   "source": [
    "\"C:\\\\Users\\\\SibNout2020\\\\002_Лекци_Julia_\"|>Base.Filesystem.readdir"
   ]
  },
  {
   "cell_type": "code",
   "execution_count": null,
   "metadata": {},
   "outputs": [],
   "source": [
    "# Получили содержимое папки, очень длинная партянка\n",
    "\"C:\\\\Users\\\\SibNout2020\"|>Base.Filesystem.readdir\n",
    "# Теперь мы достойны многострочного комментария\n",
    "#=\n",
    "readdir(dir::AbstractString=pwd();\n",
    "    join::Bool = false,\n",
    "    sort::Bool = true,\n",
    ") -> Vector{String}\n",
    "=#"
   ]
  },
  {
   "cell_type": "code",
   "execution_count": 7,
   "metadata": {},
   "outputs": [
    {
     "name": "stdout",
     "output_type": "stream",
     "text": [
      "Directories in C:\\F\\Отчеты\n",
      "C:\\F\\Отчеты\\Новая папка\n",
      "C:\\F\\Отчеты\\Новая папка (2)\n",
      "Files in C:\\F\\Отчеты\n",
      "C:\\F\\Отчеты\\_Сибирев_Отчет_2020_12_03.docx\n",
      "C:\\F\\Отчеты\\_Сибирев_Отчет_2020_12_04.docx\n",
      "C:\\F\\Отчеты\\_Сибирев_Отчет_2020_12_07.docx\n",
      "C:\\F\\Отчеты\\_Сибирев_Отчет_2020_12_08.docx\n",
      "C:\\F\\Отчеты\\_Сибирев_Отчет_2020_12_09.docx\n",
      "C:\\F\\Отчеты\\_Сибирев_Отчет_2020_12_10.docx\n",
      "C:\\F\\Отчеты\\Сибирев_Отчет_2020_12_09__14_05.docx\n",
      "C:\\F\\Отчеты\\Сибирев_Отчет_2020_12_11.docx\n",
      "C:\\F\\Отчеты\\Сибирев_Отчет_2020_12_14.docx\n",
      "C:\\F\\Отчеты\\Сибирев_Отчет_2020_12_15.docx\n",
      "C:\\F\\Отчеты\\Сибирев_Отчет_2020_12_16.docx\n",
      "C:\\F\\Отчеты\\Сибирев_Отчет_2020_12_17.docx\n",
      "C:\\F\\Отчеты\\Сибирев_Отчет_2020_12_18.docx\n",
      "C:\\F\\Отчеты\\Сибирев_Отчет_2020_12_21.docx\n",
      "C:\\F\\Отчеты\\Сибирев_Отчет_2020_12_22.docx\n",
      "Directories in C:\\F\\Отчеты\\Новая папка\n",
      "Files in C:\\F\\Отчеты\\Новая папка\n",
      "Directories in C:\\F\\Отчеты\\Новая папка (2)\n",
      "Files in C:\\F\\Отчеты\\Новая папка (2)\n"
     ]
    }
   ],
   "source": [
    "# Обход всех файлов и подпапок наглядно\n",
    "for (root, dirs, files) in walkdir(\"C:\\\\F\\\\Отчеты\")\n",
    "    println(\"Directories in $root\")\n",
    "    for dir in dirs;println(joinpath(root, dir));end;\n",
    "    println(\"Files in $root\")\n",
    "    for file in files;println(joinpath(root, file));end;\n",
    "end"
   ]
  },
  {
   "cell_type": "code",
   "execution_count": 10,
   "metadata": {},
   "outputs": [
    {
     "name": "stdout",
     "output_type": "stream",
     "text": [
      "Directories in .\n",
      ".\\.ipynb_checkpoints\n",
      "Files in .\n",
      ".\\000_НизкийСтарт.ipynb\n",
      ".\\001_Строки.ipynb\n",
      ".\\002_Матрицы.ipynb\n",
      ".\\003_ГрафикиФункций.ipynb\n",
      ".\\004_Структуры.ipynb\n",
      ".\\005_Системное.ipynb\n",
      ".\\SyncToy_fbb416bd-6b9d-4326-9eaa-fb6ff7503f55.dat\n",
      "Directories in .\\.ipynb_checkpoints\n",
      "Files in .\\.ipynb_checkpoints\n",
      ".\\.ipynb_checkpoints\\000_НизкийСтарт-checkpoint.ipynb\n",
      ".\\.ipynb_checkpoints\\001_Строки-checkpoint.ipynb\n",
      ".\\.ipynb_checkpoints\\002_Матрицы-checkpoint.ipynb\n",
      ".\\.ipynb_checkpoints\\003_ГрафикиФункций-checkpoint.ipynb\n",
      ".\\.ipynb_checkpoints\\004_Структуры-checkpoint.ipynb\n",
      ".\\.ipynb_checkpoints\\005_Системное-checkpoint.ipynb\n",
      ".\\.ipynb_checkpoints\\Untitled-checkpoint.ipynb\n",
      ".\\.ipynb_checkpoints\\Untitled1-checkpoint.ipynb\n"
     ]
    }
   ],
   "source": [
    "# Обход всех файлов и подпапок наглядно\n",
    "# \".\" - какая-то папка по умолчанию\n",
    "for (root, dirs, files) in walkdir(\".\")\n",
    "    println(\"Directories in $root\")\n",
    "    for dir in dirs;println(joinpath(root, dir));end;\n",
    "    println(\"Files in $root\")\n",
    "    for file in files;println(joinpath(root, file));end;\n",
    "end"
   ]
  },
  {
   "cell_type": "markdown",
   "metadata": {},
   "source": [
    "**Base.Filesystem.mkdir**\n",
    "<br/>\n",
    "**mkdir(path::AbstractString; mode::Unsigned = 0o777)**\n",
    "<br/>\n",
    "Создайте новый каталог с именем pathи разрешениями mode. mode по умолчанию 0o777, изменено текущей маской создания файла. Эта функция никогда не создает более одного каталога. Если каталог уже существует или некоторые промежуточные каталоги не существуют, эта функция выдает ошибку. Смmkpath. функцию, которая создает все необходимые промежуточные каталоги. Возвращение path."
   ]
  },
  {
   "cell_type": "code",
   "execution_count": 13,
   "metadata": {},
   "outputs": [
    {
     "data": {
      "text/plain": [
       "\"НоваяПридурашнаяПапка\""
      ]
     },
     "execution_count": 13,
     "metadata": {},
     "output_type": "execute_result"
    }
   ],
   "source": [
    "\"НоваяПридурашнаяПапка\"|>Base.Filesystem.mkdir"
   ]
  },
  {
   "cell_type": "markdown",
   "metadata": {},
   "source": [
    "**Base.Filesystem.mkpath**\n",
    "<br/>\n",
    "**mkpath(path::AbstractString; mode::Unsigned = 0o777)**\n",
    "<br/>\n",
    "До Создает все каталоги в доль указанного пути path, с разрешениями mode. mode по умолчанию 0o777, изменено текущей маской создания файла. Возвращение path."
   ]
  },
  {
   "cell_type": "markdown",
   "metadata": {},
   "source": [
    "### Проверяем, является ли указанный путь папкой"
   ]
  },
  {
   "cell_type": "code",
   "execution_count": 6,
   "metadata": {},
   "outputs": [
    {
     "name": "stdout",
     "output_type": "stream",
     "text": [
      "true\n",
      "false\n",
      "\n",
      "false\n",
      "true\n"
     ]
    }
   ],
   "source": [
    "\"C:\\\\Users\\\\SibNout2020\\\\002_Лекци_Julia_\"|>Base.Filesystem.isdir|>println\n",
    "\"C:\\\\Users\\\\SibNout2020\\\\002_Лекци_Julia_\\\\001_Строки.ipynb\"|>Base.Filesystem.isdir|>println\n",
    "\"\"|>println\n",
    "\"C:\\\\Users\\\\SibNout2020\\\\002_Лекци_Julia_\"|>Base.Filesystem.isfile|>println\n",
    "\"C:\\\\Users\\\\SibNout2020\\\\002_Лекци_Julia_\\\\001_Строки.ipynb\"|>Base.Filesystem.isfile|>println"
   ]
  },
  {
   "cell_type": "code",
   "execution_count": 8,
   "metadata": {},
   "outputs": [
    {
     "name": "stdout",
     "output_type": "stream",
     "text": [
      "C:\\Users\\SibNout2020\n"
     ]
    }
   ],
   "source": [
    "#Возвращаем домашний каталог текущего пользователя \n",
    "Base.Filesystem.homedir()|>println"
   ]
  },
  {
   "cell_type": "code",
   "execution_count": 9,
   "metadata": {},
   "outputs": [
    {
     "data": {
      "text/plain": [
       "\"example.jl\""
      ]
     },
     "execution_count": 9,
     "metadata": {},
     "output_type": "execute_result"
    }
   ],
   "source": [
    "# Отрезаем имя файла\n",
    "\"/home/myuser/example.jl\"|>Base.Filesystem.basename"
   ]
  },
  {
   "cell_type": "code",
   "execution_count": 10,
   "metadata": {},
   "outputs": [
    {
     "data": {
      "text/plain": [
       "\"/home/myuser\\\\example.jl\""
      ]
     },
     "execution_count": 10,
     "metadata": {},
     "output_type": "execute_result"
    }
   ],
   "source": [
    "# Обьединяем имя файла и путь\n",
    "Base.Filesystem.joinpath(\"/home/myuser\", \"example.jl\")"
   ]
  },
  {
   "cell_type": "code",
   "execution_count": 12,
   "metadata": {},
   "outputs": [
    {
     "data": {
      "text/plain": [
       "\"\\\\home\\\\example.jl\""
      ]
     },
     "execution_count": 12,
     "metadata": {},
     "output_type": "execute_result"
    }
   ],
   "source": [
    "# Нормализация путей\n",
    "\"/home/myuser/../example.jl\"|>Base.Filesystem.normpath"
   ]
  },
  {
   "cell_type": "code",
   "execution_count": null,
   "metadata": {},
   "outputs": [],
   "source": []
  }
 ],
 "metadata": {
  "kernelspec": {
   "display_name": "Julia 1.5.3",
   "language": "julia",
   "name": "julia-1.5"
  },
  "language_info": {
   "file_extension": ".jl",
   "mimetype": "application/julia",
   "name": "julia",
   "version": "1.5.3"
  }
 },
 "nbformat": 4,
 "nbformat_minor": 4
}
