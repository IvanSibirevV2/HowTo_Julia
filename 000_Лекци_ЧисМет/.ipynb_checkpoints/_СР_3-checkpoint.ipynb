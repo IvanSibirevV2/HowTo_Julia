{
 "cells": [
  {
   "cell_type": "markdown",
   "metadata": {},
   "source": [
    "Задания для самостоятельной работы..."
   ]
  },
  {
   "cell_type": "markdown",
   "metadata": {},
   "source": [
    "<table width=\"100%\" align=\"center\" >\n",
    "    <tr>\n",
    "        <th>1)$2x^3-3x^2-12x-5=0$;</th>\n",
    "        <th>2)$x^3+3x^2-24x-10=0$;</th>\n",
    "        <th>3)$x^3-3x^2+3=0$;</th>\n",
    "    </tr>\n",
    "    <tr>\n",
    "        <th>4)$x^3+3x^2-2=0$;</th>\n",
    "        <th>5)$2x^3-3x^2-12x+12=0$;</th>\n",
    "        <th>6)$x^3+3x^2-1=0$;</th>\n",
    "    </tr>\n",
    "    <tr>\n",
    "        <th>7)$x^3-3x^2-24x-3=0$;</th>\n",
    "        <th>8)$x^3-12x+6=0$;</th>\n",
    "        <th>9)$x^3-3x^2+2.5=0$;</th>\n",
    "    </tr>\n",
    "    <tr>\n",
    "        <th>10)$2x^3+9x^2-21=0$;</th>\n",
    "        <th>11)$x^3+3x^2-3.5=0$;</th>\n",
    "        <th>12)$x^3-4x^2+2=0$;</th>\n",
    "    </tr>\n",
    "    <tr>\n",
    "        <th>13)$x^3+4x-6=0$;</th>\n",
    "        <th>14)$x^3+0.2x^2+0.5x=0$;</th>\n",
    "        <th>15)$x^3-3x^2+12x-12=0$;</th>\n",
    "    </tr>\n",
    "    <tr>\n",
    "        <th>16)$x^3-0.2x^2+0.5x+1.4=0$;</th>\n",
    "        <th>17)$x^3-2x-2=0$;</th>\n",
    "        <th>18)$x^3-3x^2+6x-6=0$;</th>\n",
    "    </tr>\n",
    "    <tr>\n",
    "        <th>19)$x^3-0.1x^2+0.4x+1.2=0$;</th>\n",
    "        <th>20)$2x^3-8x^2-30x+1=0$;</th>\n",
    "        <th>21)$x^3-9x^2+6x+3=0$;</th>\n",
    "    </tr>\n",
    "    <tr>\n",
    "        <th>22)$x^3-0.1x^2+0.4x-1.5=0$;</th>\n",
    "        <th>23)$x^3-3x^2+9x+2=0$;</th>\n",
    "        <th>24)$x^3+x^2+5=0$;</th>\n",
    "    </tr>\n",
    "    <tr>\n",
    "        <th>25)$x^3+3x+1=0$;</th>\n",
    "        <th>26)$x^3-0.2x^2+0.5x-1.2=0$;</th>\n",
    "        <th>27)$x^3-3x^2+12x-9=0$;</th>\n",
    "    </tr>\n",
    "    <tr>\n",
    "        <th>28)$x^3-0.2x^2+0.3x-1.2=0$;</th>\n",
    "        <th>29)$x^3+3x^2+6x-2=0$;</th>\n",
    "        <th>30)$2x^3+9x^2-6=0$;</th>\n",
    "    </tr>\n",
    "</table>"
   ]
  },
  {
   "cell_type": "markdown",
   "metadata": {},
   "source": [
    "# МетодПроловинногоДеления\n",
    "Разбор первого варианта.<br/>\n",
    "1)$2x^3-3x^2-12x-5=0$;<br/>\n",
    "Шаг первый. Графически локализовать корни."
   ]
  },
  {
   "cell_type": "code",
   "execution_count": 2,
   "metadata": {},
   "outputs": [
    {
     "ename": "SyntaxError",
     "evalue": "invalid syntax (<ipython-input-2-0e1da9c91f07>, line 1)",
     "output_type": "error",
     "traceback": [
      "\u001b[1;36m  File \u001b[1;32m\"<ipython-input-2-0e1da9c91f07>\"\u001b[1;36m, line \u001b[1;32m1\u001b[0m\n\u001b[1;33m    using Plots;\u001b[0m\n\u001b[1;37m          ^\u001b[0m\n\u001b[1;31mSyntaxError\u001b[0m\u001b[1;31m:\u001b[0m invalid syntax\n"
     ]
    }
   ],
   "source": [
    "using Plots;\n",
    "using Latexify,LaTeXStrings,SymEngine;\n",
    "#Пример демонстрирует что у каждого графика можно сделать свой диапазон отображения\n",
    "_xlim=(-2.5,4)\n",
    "_ylim=(-25, 25)\n",
    "plot(title = \"\")\n",
    "plot!(x->(2*x^3-3*x^2-12x^1-5), label = L\"2*x^3-3*x^2-12x^1-5\",xlim=_xlim,ylim=_ylim)\n",
    "plot!(x->0, xlim=_xlim, ylim=_ylim)\n",
    "plot!(xlabel = \"OX\")\n",
    "ylabel!(\"OY\")\n",
    "plot!(size=(400,200))"
   ]
  },
  {
   "cell_type": "code",
   "execution_count": null,
   "metadata": {},
   "outputs": [],
   "source": []
  }
 ],
 "metadata": {
  "kernelspec": {
   "display_name": "Python 3",
   "language": "python",
   "name": "python3"
  },
  "language_info": {
   "codemirror_mode": {
    "name": "ipython",
    "version": 3
   },
   "file_extension": ".py",
   "mimetype": "text/x-python",
   "name": "python",
   "nbconvert_exporter": "python",
   "pygments_lexer": "ipython3",
   "version": "3.8.5"
  }
 },
 "nbformat": 4,
 "nbformat_minor": 4
}
