{
 "cells": [
  {
   "cell_type": "code",
   "execution_count": null,
   "metadata": {},
   "outputs": [],
   "source": [
    "using Plots;\n",
    "using Latexify,LaTeXStrings,SymEngine;\n",
    "#Пример демонстрирует что у каждого графика можно сделать свой диапазон отображения\n",
    "_xlim=(-2.5,4)\n",
    "_ylim=(-25, 25)\n",
    "plot(title = \"\")\n",
    "plot!(x->(2*x^3-3*x^2-12x^1-5), label = L\"2*x^3-3*x^2-12x^1-5\",xlim=_xlim,ylim=_ylim)\n",
    "plot!(x->0, xlim=_xlim, ylim=_ylim)\n",
    "plot!(xlabel = \"OX\")\n",
    "ylabel!(\"OY\")\n",
    "plot!(size=(400,200))"
   ]
  }
 ],
 "metadata": {
  "kernelspec": {
   "display_name": "Julia 1.5.3",
   "language": "julia",
   "name": "julia-1.5"
  }
 },
 "nbformat": 4,
 "nbformat_minor": 4
}
