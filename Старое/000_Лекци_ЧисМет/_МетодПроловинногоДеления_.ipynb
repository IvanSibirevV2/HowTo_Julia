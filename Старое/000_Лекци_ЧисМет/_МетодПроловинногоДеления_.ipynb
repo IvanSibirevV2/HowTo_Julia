{
 "cells": [
  {
   "cell_type": "markdown",
   "metadata": {},
   "source": [
    "# МетодПроловинногоДеления"
   ]
  },
  {
   "attachments": {
    "image-2.png": {
     "image/png": "[encoded data removed]"
    }
   },
   "cell_type": "markdown",
   "metadata": {},
   "source": [
    "![image-2.png](attachment:image-2.png)"
   ]
  },
  {
   "cell_type": "code",
   "execution_count": 1,
   "metadata": {},
   "outputs": [
    {
     "ename": "LoadError",
     "evalue": "ArgumentError: Package Latexify not found in current path.\n- Run `import Pkg; Pkg.add(\"Latexify\")` to install the Latexify package.",
     "output_type": "error",
     "traceback": [
      "ArgumentError: Package Latexify not found in current path.\n- Run `import Pkg; Pkg.add(\"Latexify\")` to install the Latexify package.",
      "",
      "Stacktrace:",
      " [1] macro expansion",
      "   @ .\\loading.jl:1630 [inlined]",
      " [2] macro expansion",
      "   @ .\\lock.jl:267 [inlined]",
      " [3] require(into::Module, mod::Symbol)",
      "   @ Base .\\loading.jl:1611"
     ]
    }
   ],
   "source": [
    "using Plots;\n",
    "using Latexify,LaTeXStrings,SymEngine;"
   ]
  },
  {
   "cell_type": "code",
   "execution_count": 2,
   "metadata": {},
   "outputs": [
    {
     "ename": "LoadError",
     "evalue": "LoadError: UndefVarError: `@L_str` not defined\nin expression starting at In[2]:5",
     "output_type": "error",
     "traceback": [
      "LoadError: UndefVarError: `@L_str` not defined\nin expression starting at In[2]:5",
      ""
     ]
    }
   ],
   "source": [
    "#Пример демонстрирует что у каждого графика можно сделать свой диапазон отображения\n",
    "_xlim=(-1, 2)\n",
    "_ylim=(-1, 1)\n",
    "plot(title = \"\")\n",
    "plot!(x->(x^3+0.5*x^2+0.5x), label = L\"x^3+0.5*x^2+0.5x\",xlim=_xlim,ylim=_ylim)\n",
    "plot!(x->0, xlim=_xlim, ylim=_ylim)\n",
    "plot!(xlabel = \"OX\")\n",
    "ylabel!(\"OY\")\n",
    "plot!(size=(800,400))"
   ]
  },
  {
   "cell_type": "code",
   "execution_count": 23,
   "metadata": {},
   "outputs": [
    {
     "data": {
      "text/plain": [
       "140.0"
      ]
     },
     "execution_count": 23,
     "metadata": {},
     "output_type": "execute_result"
    }
   ],
   "source": [
    "function Sign(x::Core.Real);return Base.cmp(x,0);end;\n",
    "f=x->(x^3+0.5*x^2+0.5x)\n",
    "5|>f"
   ]
  },
  {
   "cell_type": "markdown",
   "metadata": {},
   "source": [
    "И так, мы локализовали корень на интервале от -1 до 2."
   ]
  },
  {
   "cell_type": "code",
   "execution_count": 31,
   "metadata": {},
   "outputs": [
    {
     "data": {
      "text/latex": [
       "$[-1;0.5;2]$"
      ],
      "text/plain": [
       "L\"$[-1;0.5;2]$\""
      ]
     },
     "metadata": {},
     "output_type": "display_data"
    },
    {
     "data": {
      "text/latex": [
       "$[-1;1;1]-Sign$"
      ],
      "text/plain": [
       "L\"$[-1;1;1]-Sign$\""
      ]
     },
     "metadata": {},
     "output_type": "display_data"
    },
    {
     "data": {
      "text/latex": [
       "$2E=0.2>|A-B|=3 - false$"
      ],
      "text/plain": [
       "L\"$2E=0.2>|A-B|=3 - false$\""
      ]
     },
     "metadata": {},
     "output_type": "display_data"
    }
   ],
   "source": [
    "E=0.1\n",
    "a=-1;b=2;c=(a+b)/2\n",
    "L\"[%$(a);%$(c);%$(b)]\"|>display\n",
    "L\"[%$(a|>f|>Sign);%$(c|>f|>Sign);%$(b|>f|>Sign)]-Sign\"|>display\n",
    "L\"2E=%$(2*E)>|A-B|=%$(abs(a-b)) - %$(2*E>abs(a-b))\"|>display"
   ]
  },
  {
   "cell_type": "markdown",
   "metadata": {},
   "source": [
    "И так, мы вывели на экран интервал от а до в, его середину и подписали снизу знаки.<br/>\n",
    "Теперь нам нужно выбрать следующий интервал, такой чтобы знаки на его концах были разные.<br/>"
   ]
  },
  {
   "cell_type": "code",
   "execution_count": 32,
   "metadata": {},
   "outputs": [
    {
     "data": {
      "text/latex": [
       "$[-1;-0.25;0.5]$"
      ],
      "text/plain": [
       "L\"$[-1;-0.25;0.5]$\""
      ]
     },
     "metadata": {},
     "output_type": "display_data"
    },
    {
     "data": {
      "text/latex": [
       "$[-1;-1;1]-Sign$"
      ],
      "text/plain": [
       "L\"$[-1;-1;1]-Sign$\""
      ]
     },
     "metadata": {},
     "output_type": "display_data"
    },
    {
     "data": {
      "text/latex": [
       "$2E=0.2>|A-B|=1.5 - false$"
      ],
      "text/plain": [
       "L\"$2E=0.2>|A-B|=1.5 - false$\""
      ]
     },
     "metadata": {},
     "output_type": "display_data"
    }
   ],
   "source": [
    "E=0.1\n",
    "a=-1;b=0.5;c=(a+b)/2\n",
    "L\"[%$(a);%$(c);%$(b)]\"|>display\n",
    "L\"[%$(a|>f|>Sign);%$(c|>f|>Sign);%$(b|>f|>Sign)]-Sign\"|>display\n",
    "L\"2E=%$(2*E)>|A-B|=%$(abs(a-b)) - %$(2*E>abs(a-b))\"|>display"
   ]
  },
  {
   "cell_type": "code",
   "execution_count": 33,
   "metadata": {},
   "outputs": [
    {
     "data": {
      "text/latex": [
       "$[-0.25;0.125;0.5]$"
      ],
      "text/plain": [
       "L\"$[-0.25;0.125;0.5]$\""
      ]
     },
     "metadata": {},
     "output_type": "display_data"
    },
    {
     "data": {
      "text/latex": [
       "$[-1;1;1]-Sign$"
      ],
      "text/plain": [
       "L\"$[-1;1;1]-Sign$\""
      ]
     },
     "metadata": {},
     "output_type": "display_data"
    },
    {
     "data": {
      "text/latex": [
       "$2E=0.2>|A-B|=0.75 - false$"
      ],
      "text/plain": [
       "L\"$2E=0.2>|A-B|=0.75 - false$\""
      ]
     },
     "metadata": {},
     "output_type": "display_data"
    }
   ],
   "source": [
    "E=0.1\n",
    "a=-0.25;b=0.5;c=(a+b)/2\n",
    "L\"[%$(a);%$(c);%$(b)]\"|>display\n",
    "L\"[%$(a|>f|>Sign);%$(c|>f|>Sign);%$(b|>f|>Sign)]-Sign\"|>display\n",
    "L\"2E=%$(2*E)>|A-B|=%$(abs(a-b)) - %$(2*E>abs(a-b))\"|>display"
   ]
  },
  {
   "cell_type": "code",
   "execution_count": 34,
   "metadata": {},
   "outputs": [
    {
     "data": {
      "text/latex": [
       "$[-0.25;-0.0625;0.125]$"
      ],
      "text/plain": [
       "L\"$[-0.25;-0.0625;0.125]$\""
      ]
     },
     "metadata": {},
     "output_type": "display_data"
    },
    {
     "data": {
      "text/latex": [
       "$[-1;-1;1]-Sign$"
      ],
      "text/plain": [
       "L\"$[-1;-1;1]-Sign$\""
      ]
     },
     "metadata": {},
     "output_type": "display_data"
    },
    {
     "data": {
      "text/latex": [
       "$2E=0.2>|A-B|=0.375 - false$"
      ],
      "text/plain": [
       "L\"$2E=0.2>|A-B|=0.375 - false$\""
      ]
     },
     "metadata": {},
     "output_type": "display_data"
    }
   ],
   "source": [
    "E=0.1\n",
    "a=-0.25;b=0.125;c=(a+b)/2\n",
    "L\"[%$(a);%$(c);%$(b)]\"|>display\n",
    "L\"[%$(a|>f|>Sign);%$(c|>f|>Sign);%$(b|>f|>Sign)]-Sign\"|>display\n",
    "L\"2E=%$(2*E)>|A-B|=%$(abs(a-b)) - %$(2*E>abs(a-b))\"|>display"
   ]
  },
  {
   "cell_type": "code",
   "execution_count": 35,
   "metadata": {},
   "outputs": [
    {
     "data": {
      "text/latex": [
       "$[-0.0625;0.03125;0.125]$"
      ],
      "text/plain": [
       "L\"$[-0.0625;0.03125;0.125]$\""
      ]
     },
     "metadata": {},
     "output_type": "display_data"
    },
    {
     "data": {
      "text/latex": [
       "$[-1;1;1]-Sign$"
      ],
      "text/plain": [
       "L\"$[-1;1;1]-Sign$\""
      ]
     },
     "metadata": {},
     "output_type": "display_data"
    },
    {
     "data": {
      "text/latex": [
       "$2E=0.2>|A-B|=0.1875 - true$"
      ],
      "text/plain": [
       "L\"$2E=0.2>|A-B|=0.1875 - true$\""
      ]
     },
     "metadata": {},
     "output_type": "display_data"
    }
   ],
   "source": [
    "E=0.1\n",
    "a=-0.0625;b=0.125;c=(a+b)/2\n",
    "L\"[%$(a);%$(c);%$(b)]\"|>display\n",
    "L\"[%$(a|>f|>Sign);%$(c|>f|>Sign);%$(b|>f|>Sign)]-Sign\"|>display\n",
    "L\"2E=%$(2*E)>|A-B|=%$(abs(a-b)) - %$(2*E>abs(a-b))\"|>display"
   ]
  },
  {
   "cell_type": "code",
   "execution_count": 37,
   "metadata": {},
   "outputs": [
    {
     "data": {
      "text/latex": [
       "$Ответ:x= 0.03125 \\pm 0.09375$"
      ],
      "text/plain": [
       "L\"$Ответ:x= 0.03125 \\pm 0.09375$\""
      ]
     },
     "metadata": {},
     "output_type": "display_data"
    }
   ],
   "source": [
    "L\"Ответ:x= %$((a+b)/2) \\pm %$(abs(a-b)/2)\"|>display"
   ]
  },
  {
   "cell_type": "code",
   "execution_count": null,
   "metadata": {},
   "outputs": [],
   "source": []
  }
 ],
 "metadata": {
  "kernelspec": {
   "display_name": "Julia 1.9.3",
   "language": "julia",
   "name": "julia-1.9"
  },
  "language_info": {
   "file_extension": ".jl",
   "mimetype": "application/julia",
   "name": "julia",
   "version": "1.9.3"
  }
 },
 "nbformat": 4,
 "nbformat_minor": 4
}
