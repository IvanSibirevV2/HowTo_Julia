{
 "cells": [
  {
   "cell_type": "markdown",
   "metadata": {},
   "source": [
    "Начнем ны вот с чего\n",
    "# Можно вставлять формулы от LaTeX"
   ]
  },
  {
   "cell_type": "markdown",
   "metadata": {},
   "source": [
    "Дробь $$\\begin{aligned}\\frac{A}{2}\\end{aligned}$$\n",
    "Нижний индекс $$A_0$$\n",
    "Верхний индекс $$A^0$$\n",
    "Оба с разу $$A_0^0$$\n",
    "Сигма $$ \\begin{aligned} x & = \\sigma(x) \\end{aligned} $$\n",
    "Дельто $$ \\begin{aligned} x & = \\Delta(x) \\end{aligned} $$"
   ]
  },
  {
   "cell_type": "markdown",
   "metadata": {},
   "source": [
    "# И так далее\n",
    "$$\n",
    "\\begin{aligned}\n",
    "\\dot{x} & = \\sigma(y-x) \\\\\n",
    "\\dot{y} & = \\rho x - y - xz \\\\\n",
    "\\dot{z} & = -\\beta z + xy\n",
    "\\end{aligned}\n",
    "$$\n",
    "$$\n",
    "\\begin{equation}\\label{eq:fourierrow}\n",
    "f(x) = \\frac{A_0}{2} + \\sum \\limits_{n=1}^{\\infty} A_n \\cos \\left( \\frac{2 n \\pi x}{\\nu} - \\alpha_n \\right) \n",
    "\\end{equation}\n",
    "$$"
   ]
  },
  {
   "cell_type": "code",
   "execution_count": 6,
   "metadata": {},
   "outputs": [
    {
     "data": {
      "text/html": [
       "    <a href=\"https://www.andreyolegovich.ru/PC/LaTeX.php\">Краткий Самоучитель LaTeX</a>\n",
       "    <br/><br/>\n",
       "    <a href=\"https://github.com/IvanSibirevV2/HowTo_Julia/blob/main/Учебники/LaTeX/symbols-a4_LaTeX.pdf\">\n",
       "    Краткий, НЕ ОЧЕНЬ, справочник по символам LaTeX</a>    \n"
      ]
     },
     "metadata": {},
     "output_type": "display_data"
    }
   ],
   "source": [
    "display(\"text/html\", \"\"\"\n",
    "    <a href=\"https://www.andreyolegovich.ru/PC/LaTeX.php\">Краткий Самоучитель LaTeX</a>\n",
    "    <br/><br/>\n",
    "    <a href=\"https://github.com/IvanSibirevV2/HowTo_Julia/blob/main/Учебники/LaTeX/symbols-a4_LaTeX.pdf\">\n",
    "    Краткий, НЕ ОЧЕНЬ, справочник по символам LaTeX</a>    \n",
    "\"\"\")"
   ]
  },
  {
   "cell_type": "code",
   "execution_count": null,
   "metadata": {},
   "outputs": [],
   "source": []
  }
 ],
 "metadata": {
  "kernelspec": {
   "display_name": "Julia 1.5.3",
   "language": "julia",
   "name": "julia-1.5"
  },
  "language_info": {
   "file_extension": ".jl",
   "mimetype": "application/julia",
   "name": "julia",
   "version": "1.5.3"
  }
 },
 "nbformat": 4,
 "nbformat_minor": 4
}
