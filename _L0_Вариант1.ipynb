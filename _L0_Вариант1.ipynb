{
 "cells": [
  {
   "cell_type": "markdown",
   "metadata": {},
   "source": [
    "# Вариант 1"
   ]
  },
  {
   "cell_type": "markdown",
   "metadata": {},
   "source": [
    "Вариант 1.$$\\begin{aligned}\\frac{b+\\sqrt{b^2+4ac}}{2a}-a^3c+b^{-2}\\end{aligned}$$"
   ]
  },
  {
   "cell_type": "code",
   "execution_count": 8,
   "metadata": {},
   "outputs": [
    {
     "name": "stdout",
     "output_type": "stream",
     "text": [
      "Вариант 1\n",
      "((b + sqrt(b ^ 2 + 4 * a * c)) / (2a) - c * a ^ 3) + b ^ -2 = 0.25\n",
      "y=0.25\n"
     ]
    }
   ],
   "source": [
    "println(\"Вариант 1\");\n",
    "a=1;\n",
    "b=2;\n",
    "c=3;\n",
    "@show (b+sqrt(b^2+4*a*c))/(2*a)-c*a^3+b^(-2)\n",
    "y=(b+sqrt(b^2+4*a*c))/(2*a)-c*a^3+b^(-2)\n",
    "println(\"y=\",y);"
   ]
  },
  {
   "cell_type": "code",
   "execution_count": 15,
   "metadata": {},
   "outputs": [
    {
     "name": "stdout",
     "output_type": "stream",
     "text": [
      "Вариант 7\n",
      "z=1.1938200260161127\n",
      "z=1.1938200260161127\n"
     ]
    }
   ],
   "source": [
    "println(\"Вариант 7\");\n",
    "x=4;\n",
    "y=7\n",
    "z=log(10,(y-sqrt(abs(x)))*(x-y/(x+(x^2)/4)))\n",
    "println(\"z=\",z);\n",
    "z=log(10,(y-(x|>abs|>sqrt))*(x-y/(x+(x^2)/4)))\n",
    "println(\"z=\",z);"
   ]
  },
  {
   "cell_type": "code",
   "execution_count": 52,
   "metadata": {},
   "outputs": [
    {
     "name": "stdout",
     "output_type": "stream",
     "text": [
      "Вариант 8\n",
      "0.6898616076024452\n"
     ]
    }
   ],
   "source": [
    "println(\"Вариант 8\");\n",
    "x=0.4\n",
    "y=1\n",
    "(1-tan(x))^(acot(x))+cos(x+y)|>println;"
   ]
  },
  {
   "cell_type": "code",
   "execution_count": 1,
   "metadata": {},
   "outputs": [
    {
     "name": "stdout",
     "output_type": "stream",
     "text": [
      "Base.MathConstants.e=2.718281828459045\n",
      "Base.MathConstants.pi=3.141592653589793\n"
     ]
    }
   ],
   "source": [
    "println(\"Base.MathConstants.e=\",Base.MathConstants.e+0);\n",
    "println(\"Base.MathConstants.pi=\",Base.MathConstants.pi+0);"
   ]
  },
  {
   "cell_type": "code",
   "execution_count": 1,
   "metadata": {},
   "outputs": [
    {
     "name": "stdout",
     "output_type": "stream",
     "text": [
      "y=-0.38672004402721605\n"
     ]
    }
   ],
   "source": [
    "x=5\n",
    "y=log(Base.MathConstants.e,cos(x))/log(Base.MathConstants.e,1+x^2)\n",
    "println(\"y=\",y);"
   ]
  }
 ],
 "metadata": {
  "kernelspec": {
   "display_name": "Julia 1.5.3",
   "language": "julia",
   "name": "julia-1.5"
  },
  "language_info": {
   "file_extension": ".jl",
   "mimetype": "application/julia",
   "name": "julia",
   "version": "1.5.3"
  }
 },
 "nbformat": 4,
 "nbformat_minor": 4
}
